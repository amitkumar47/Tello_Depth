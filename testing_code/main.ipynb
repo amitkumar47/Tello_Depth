{
 "cells": [
  {
   "cell_type": "markdown",
   "metadata": {},
   "source": [
    "This code is taking the image from the dji tello drone, and then passing it through depth anything model and then saving it to a folder"
   ]
  },
  {
   "cell_type": "code",
   "execution_count": 1,
   "metadata": {},
   "outputs": [
    {
     "name": "stderr",
     "output_type": "stream",
     "text": [
      "2024-04-03 21:07:25.567773: I tensorflow/core/util/port.cc:113] oneDNN custom operations are on. You may see slightly different numerical results due to floating-point round-off errors from different computation orders. To turn them off, set the environment variable `TF_ENABLE_ONEDNN_OPTS=0`.\n",
      "2024-04-03 21:07:25.596715: E external/local_xla/xla/stream_executor/cuda/cuda_dnn.cc:9261] Unable to register cuDNN factory: Attempting to register factory for plugin cuDNN when one has already been registered\n",
      "2024-04-03 21:07:25.596749: E external/local_xla/xla/stream_executor/cuda/cuda_fft.cc:607] Unable to register cuFFT factory: Attempting to register factory for plugin cuFFT when one has already been registered\n",
      "2024-04-03 21:07:25.598113: E external/local_xla/xla/stream_executor/cuda/cuda_blas.cc:1515] Unable to register cuBLAS factory: Attempting to register factory for plugin cuBLAS when one has already been registered\n",
      "2024-04-03 21:07:25.603092: I tensorflow/core/platform/cpu_feature_guard.cc:182] This TensorFlow binary is optimized to use available CPU instructions in performance-critical operations.\n",
      "To enable the following instructions: AVX2 AVX512F AVX512_VNNI FMA, in other operations, rebuild TensorFlow with the appropriate compiler flags.\n",
      "2024-04-03 21:07:26.420287: W tensorflow/compiler/tf2tensorrt/utils/py_utils.cc:38] TF-TRT Warning: Could not find TensorRT\n"
     ]
    }
   ],
   "source": [
    "import tensorflow as tf\n",
    "import numpy as np\n",
    "import matplotlib.pyplot as plt\n",
    "from skimage.transform import resize\n",
    "from djitellopy import Tello\n",
    "import time\n",
    "import cv2\n",
    "import numpy as np\n",
    "import os\n",
    "import torch\n",
    "import torch.nn.functional as F\n",
    "from torchvision.transforms import Compose\n",
    "from tqdm import tqdm\n",
    "from depth_anything.dpt import DepthAnything\n",
    "from depth_anything.util.transform import Resize, NormalizeImage, PrepareForNet\n",
    "\n"
   ]
  },
  {
   "cell_type": "code",
   "execution_count": 2,
   "metadata": {},
   "outputs": [
    {
     "name": "stderr",
     "output_type": "stream",
     "text": [
      "[INFO] tello.py - 129 - Tello instance was initialized. Host: '192.168.10.1'. Port: '8889'.\n",
      "[INFO] tello.py - 438 - Send command: 'command'\n",
      "[INFO] tello.py - 462 - Response command: 'ok'\n",
      "[INFO] tello.py - 438 - Send command: 'battery?'\n",
      "[INFO] tello.py - 462 - Response battery?: '56'\n"
     ]
    },
    {
     "name": "stdout",
     "output_type": "stream",
     "text": [
      "56\n"
     ]
    }
   ],
   "source": [
    "tello = Tello()\n",
    "tello.connect()\n",
    "print(tello.query_battery())"
   ]
  },
  {
   "cell_type": "code",
   "execution_count": 3,
   "metadata": {},
   "outputs": [
    {
     "name": "stderr",
     "output_type": "stream",
     "text": [
      "[INFO] tello.py - 438 - Send command: 'streamon'\n",
      "[INFO] tello.py - 462 - Response streamon: 'ok'\n",
      "non-existing PPS 0 referenced\n",
      "non-existing PPS 0 referenced\n",
      "decode_slice_header error\n",
      "no frame!\n",
      "non-existing PPS 0 referenced\n",
      "non-existing PPS 0 referenced\n",
      "decode_slice_header error\n",
      "no frame!\n",
      "non-existing PPS 0 referenced\n",
      "non-existing PPS 0 referenced\n",
      "decode_slice_header error\n",
      "no frame!\n",
      "non-existing PPS 0 referenced\n",
      "non-existing PPS 0 referenced\n",
      "decode_slice_header error\n",
      "no frame!\n",
      "non-existing PPS 0 referenced\n",
      "non-existing PPS 0 referenced\n",
      "decode_slice_header error\n",
      "no frame!\n",
      "non-existing PPS 0 referenced\n",
      "non-existing PPS 0 referenced\n",
      "decode_slice_header error\n",
      "no frame!\n",
      "non-existing PPS 0 referenced\n",
      "non-existing PPS 0 referenced\n",
      "decode_slice_header error\n",
      "no frame!\n",
      "non-existing PPS 0 referenced\n",
      "non-existing PPS 0 referenced\n",
      "decode_slice_header error\n",
      "no frame!\n",
      "non-existing PPS 0 referenced\n",
      "non-existing PPS 0 referenced\n",
      "decode_slice_header error\n",
      "no frame!\n",
      "non-existing PPS 0 referenced\n",
      "non-existing PPS 0 referenced\n",
      "decode_slice_header error\n",
      "no frame!\n",
      "non-existing PPS 0 referenced\n",
      "non-existing PPS 0 referenced\n",
      "decode_slice_header error\n",
      "no frame!\n",
      "non-existing PPS 0 referenced\n",
      "non-existing PPS 0 referenced\n",
      "decode_slice_header error\n",
      "no frame!\n",
      "non-existing PPS 0 referenced\n",
      "non-existing PPS 0 referenced\n",
      "decode_slice_header error\n",
      "no frame!\n",
      "non-existing PPS 0 referenced\n",
      "non-existing PPS 0 referenced\n",
      "decode_slice_header error\n",
      "no frame!\n",
      "non-existing PPS 0 referenced\n",
      "non-existing PPS 0 referenced\n",
      "decode_slice_header error\n",
      "no frame!\n"
     ]
    }
   ],
   "source": [
    "tello.streamon()\n",
    "frame_read = tello.get_frame_read()\n",
    "# tello.takeoff()\n",
    "# tello.move_up(100)\n",
    "# cv2.imwrite(\"picture.png\", frame_read.frame)\n",
    "\n"
   ]
  },
  {
   "cell_type": "code",
   "execution_count": 4,
   "metadata": {},
   "outputs": [
    {
     "name": "stderr",
     "output_type": "stream",
     "text": [
      "xFormers not available\n",
      "xFormers not available\n"
     ]
    }
   ],
   "source": [
    "encoder = 'vits'\n",
    "video_path = 1\n",
    "margin_width = 50\n",
    "caption_height = 60\n",
    "\n",
    "DEVICE = 'cuda' if torch.cuda.is_available() else 'cpu'\n",
    "depth_anything = DepthAnything.from_pretrained('LiheYoung/depth_anything_{}14'.format(encoder)).to(DEVICE)\n",
    "depth_anything.eval()\n",
    "transform = Compose([\n",
    "    Resize(\n",
    "        width=518,\n",
    "        height=518,\n",
    "        resize_target=False,\n",
    "        keep_aspect_ratio=True,\n",
    "        ensure_multiple_of=14,\n",
    "        resize_method='lower_bound',\n",
    "        image_interpolation_method=cv2.INTER_CUBIC,\n",
    "    ),\n",
    "    NormalizeImage(mean=[0.485, 0.456, 0.406], std=[0.229, 0.224, 0.225]),\n",
    "    PrepareForNet(),\n",
    "])\n"
   ]
  },
  {
   "cell_type": "markdown",
   "metadata": {},
   "source": [
    "Function for testing the Aux function"
   ]
  },
  {
   "cell_type": "code",
   "execution_count": 5,
   "metadata": {},
   "outputs": [],
   "source": [
    "# img = cv2.imread(\"./testing_data/D2-L1-0.png\")\n",
    "# img = preprocess_frame(img)\n",
    "# action, action_list = policy_REINFORCE(img, agent)                            #action->np.array,(1,1)\n",
    "# action_word = translate_action([action], 25)\n"
   ]
  },
  {
   "cell_type": "markdown",
   "metadata": {},
   "source": [
    "Actual Inference Happening"
   ]
  },
  {
   "cell_type": "code",
   "execution_count": null,
   "metadata": {},
   "outputs": [
    {
     "name": "stderr",
     "output_type": "stream",
     "text": [
      "left block unavailable for requested intra mode\n",
      "error while decoding MB 0 16, bytestream 8818\n",
      "left block unavailable for requested intra mode\n",
      "error while decoding MB 0 28, bytestream 5024\n",
      "error while decoding MB 2 44, bytestream -8\n",
      "left block unavailable for requested intra mode\n",
      "error while decoding MB 0 13, bytestream 10258\n"
     ]
    }
   ],
   "source": [
    "start = time.time()\n",
    "i=0\n",
    "\n",
    "while time.time()-start < 30:\n",
    "    frame = tello.get_frame_read().frame\n",
    "    frame = cv2.resize(frame, (640, 480))\n",
    "    frame = cv2.cvtColor(frame, cv2.COLOR_BGR2RGB) / 255.0\n",
    "    h, w = frame.shape[:2]\n",
    "    image = transform({'image': frame})['image']\n",
    "    image = torch.from_numpy(image).unsqueeze(0).to(DEVICE)\n",
    "    with torch.no_grad():\n",
    "        depth = depth_anything(image)\n",
    "    depth = F.interpolate(depth[None], (h, w), mode='bilinear', align_corners=False)[0, 0]\n",
    "    depth = (depth - depth.min()) / (depth.max() - depth.min()) * 255.0\n",
    "    \n",
    "    depth = depth.cpu().numpy().astype(np.uint8)\n",
    "    depth_color = cv2.applyColorMap(depth, cv2.COLORMAP_INFERNO)\n",
    "    # Our operations on the frame come here\n",
    "    # gray = cv2.cvtColor(frame, cv2.COLOR_BGR2GRAY)\n",
    "    # Display the resulting frame\n",
    "    path = \"depth_output/frame\"+str(i)+\".jpg\"\n",
    "    cv2.imwrite(path,depth_color)\n",
    "    i+=1\n",
    "    \n",
    "    \n",
    "    \n",
    "   "
   ]
  },
  {
   "cell_type": "code",
   "execution_count": null,
   "metadata": {},
   "outputs": [
    {
     "name": "stderr",
     "output_type": "stream",
     "text": [
      "[INFO] tello.py - 438 - Send command: 'land'\n"
     ]
    },
    {
     "name": "stderr",
     "output_type": "stream",
     "text": [
      "[INFO] tello.py - 462 - Response land: 'ok'\n"
     ]
    }
   ],
   "source": []
  }
 ],
 "metadata": {
  "kernelspec": {
   "display_name": "airsim_env1",
   "language": "python",
   "name": "python3"
  },
  "language_info": {
   "codemirror_mode": {
    "name": "ipython",
    "version": 3
   },
   "file_extension": ".py",
   "mimetype": "text/x-python",
   "name": "python",
   "nbconvert_exporter": "python",
   "pygments_lexer": "ipython3",
   "version": "3.11.4"
  }
 },
 "nbformat": 4,
 "nbformat_minor": 2
}
